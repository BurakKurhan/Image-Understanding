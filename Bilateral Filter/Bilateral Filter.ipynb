{
 "cells": [
  {
   "cell_type": "code",
   "execution_count": 1,
   "metadata": {},
   "outputs": [
    {
     "name": "stdout",
     "output_type": "stream",
     "text": [
      "Loading... %0  Please wait. It may take several minutes.\n",
      "Loading... %0  Please wait. It may take several minutes.\n",
      "Loading... %0  Please wait. It may take several minutes.\n"
     ]
    },
    {
     "ename": "KeyboardInterrupt",
     "evalue": "",
     "output_type": "error",
     "traceback": [
      "\u001b[0;31m---------------------------------------------------------------------------\u001b[0m",
      "\u001b[0;31mKeyboardInterrupt\u001b[0m                         Traceback (most recent call last)",
      "\u001b[0;32m<ipython-input-1-eff5c9120f32>\u001b[0m in \u001b[0;36m<module>\u001b[0;34m()\u001b[0m\n\u001b[1;32m     37\u001b[0m                 \u001b[0mw_1\u001b[0m \u001b[0;34m=\u001b[0m \u001b[0;34m(\u001b[0m\u001b[0;36m1.0\u001b[0m \u001b[0;34m/\u001b[0m \u001b[0;34m(\u001b[0m\u001b[0;36m2\u001b[0m \u001b[0;34m*\u001b[0m \u001b[0mmath\u001b[0m\u001b[0;34m.\u001b[0m\u001b[0mpi\u001b[0m \u001b[0;34m*\u001b[0m \u001b[0;34m(\u001b[0m\u001b[0msigma_i\u001b[0m \u001b[0;34m**\u001b[0m \u001b[0;36m2\u001b[0m\u001b[0;34m)\u001b[0m\u001b[0;34m)\u001b[0m\u001b[0;34m)\u001b[0m \u001b[0;34m*\u001b[0m \u001b[0mmath\u001b[0m\u001b[0;34m.\u001b[0m\u001b[0mexp\u001b[0m\u001b[0;34m(\u001b[0m\u001b[0;34m-\u001b[0m \u001b[0;34m(\u001b[0m\u001b[0mdensity_difference_0\u001b[0m \u001b[0;34m**\u001b[0m \u001b[0;36m2\u001b[0m\u001b[0;34m)\u001b[0m \u001b[0;34m/\u001b[0m \u001b[0;34m(\u001b[0m\u001b[0;36m2\u001b[0m \u001b[0;34m*\u001b[0m \u001b[0msigma_i\u001b[0m \u001b[0;34m**\u001b[0m \u001b[0;36m2\u001b[0m\u001b[0;34m)\u001b[0m\u001b[0;34m)\u001b[0m \u001b[0;34m*\u001b[0m \u001b[0mgs\u001b[0m\u001b[0;34m\u001b[0m\u001b[0m\n\u001b[1;32m     38\u001b[0m                 \u001b[0mw_2\u001b[0m \u001b[0;34m=\u001b[0m \u001b[0;34m(\u001b[0m\u001b[0;36m1.0\u001b[0m \u001b[0;34m/\u001b[0m \u001b[0;34m(\u001b[0m\u001b[0;36m2\u001b[0m \u001b[0;34m*\u001b[0m \u001b[0mmath\u001b[0m\u001b[0;34m.\u001b[0m\u001b[0mpi\u001b[0m \u001b[0;34m*\u001b[0m \u001b[0;34m(\u001b[0m\u001b[0msigma_i\u001b[0m \u001b[0;34m**\u001b[0m \u001b[0;36m2\u001b[0m\u001b[0;34m)\u001b[0m\u001b[0;34m)\u001b[0m\u001b[0;34m)\u001b[0m \u001b[0;34m*\u001b[0m \u001b[0mmath\u001b[0m\u001b[0;34m.\u001b[0m\u001b[0mexp\u001b[0m\u001b[0;34m(\u001b[0m\u001b[0;34m-\u001b[0m \u001b[0;34m(\u001b[0m\u001b[0mdensity_difference_1\u001b[0m \u001b[0;34m**\u001b[0m \u001b[0;36m2\u001b[0m\u001b[0;34m)\u001b[0m \u001b[0;34m/\u001b[0m \u001b[0;34m(\u001b[0m\u001b[0;36m2\u001b[0m \u001b[0;34m*\u001b[0m \u001b[0msigma_i\u001b[0m \u001b[0;34m**\u001b[0m \u001b[0;36m2\u001b[0m\u001b[0;34m)\u001b[0m\u001b[0;34m)\u001b[0m \u001b[0;34m*\u001b[0m \u001b[0mgs\u001b[0m\u001b[0;34m\u001b[0m\u001b[0m\n\u001b[0;32m---> 39\u001b[0;31m                 \u001b[0mw_3\u001b[0m \u001b[0;34m=\u001b[0m \u001b[0;34m(\u001b[0m\u001b[0;36m1.0\u001b[0m \u001b[0;34m/\u001b[0m \u001b[0;34m(\u001b[0m\u001b[0;36m2\u001b[0m \u001b[0;34m*\u001b[0m \u001b[0mmath\u001b[0m\u001b[0;34m.\u001b[0m\u001b[0mpi\u001b[0m \u001b[0;34m*\u001b[0m \u001b[0;34m(\u001b[0m\u001b[0msigma_i\u001b[0m \u001b[0;34m**\u001b[0m \u001b[0;36m2\u001b[0m\u001b[0;34m)\u001b[0m\u001b[0;34m)\u001b[0m\u001b[0;34m)\u001b[0m \u001b[0;34m*\u001b[0m \u001b[0mmath\u001b[0m\u001b[0;34m.\u001b[0m\u001b[0mexp\u001b[0m\u001b[0;34m(\u001b[0m\u001b[0;34m-\u001b[0m \u001b[0;34m(\u001b[0m\u001b[0mdensity_difference_2\u001b[0m \u001b[0;34m**\u001b[0m \u001b[0;36m2\u001b[0m\u001b[0;34m)\u001b[0m \u001b[0;34m/\u001b[0m \u001b[0;34m(\u001b[0m\u001b[0;36m2\u001b[0m \u001b[0;34m*\u001b[0m \u001b[0msigma_i\u001b[0m \u001b[0;34m**\u001b[0m \u001b[0;36m2\u001b[0m\u001b[0;34m)\u001b[0m\u001b[0;34m)\u001b[0m \u001b[0;34m*\u001b[0m \u001b[0mgs\u001b[0m\u001b[0;34m\u001b[0m\u001b[0m\n\u001b[0m\u001b[1;32m     40\u001b[0m \u001b[0;34m\u001b[0m\u001b[0m\n\u001b[1;32m     41\u001b[0m \u001b[0;34m\u001b[0m\u001b[0m\n",
      "\u001b[0;31mKeyboardInterrupt\u001b[0m: "
     ]
    }
   ],
   "source": [
    "import numpy as np\n",
    "np.seterr(over='ignore')\n",
    "import cv2\n",
    "import sys\n",
    "import math\n",
    "\n",
    "img = cv2.imread(\"in_img.jpg\")\n",
    "F_İmage = np.zeros(img.shape)\n",
    "\n",
    "sigma_i = 12    #sigma i value\n",
    "sigma_s = 17    #sigma s value\n",
    "\n",
    "i = 0\n",
    "while i < len(img):     #Loop for each row\n",
    "    print (\"Loading... %\" +str(round(((i)/len(img))*100))+  \"  Please wait. It may take several minutes.\")\n",
    "    j = 0\n",
    "    while j < len(img[0]):   # Loop for each column\n",
    "        \n",
    "        filtered_list =[0,0,0]   # I define filtered list to holds filtered RGB values for each pixels \n",
    "        Wp_0, Wp_1, Wp_2 = 0,0,0 \n",
    "        half_lenght = 7//2  # Half lenght of filter lenght   filter lenght = 7\n",
    "        k=0\n",
    "        while k < 7:   # Loop for each x neighbour\n",
    "            l = 0\n",
    "            while l < 7:  # Loop for each y neighbour\n",
    "                if (i - (half_lenght - k)) < len(img):  # edges control\n",
    "                    n_x = i - (half_lenght - k)           # if neighbours are out of image this alghoritm dont takes out of pixels\n",
    "                if (j - (half_lenght - l)) < len(img[0]):  # edges control\n",
    "                    n_y = j - (half_lenght - l)            #takes neighbour only if they are inside the image.           \n",
    "                         \n",
    "                density_difference_0=img[n_x][n_y][0] - img[i][j][0]  # intensity differences between neighbours and selected pixel.\n",
    "                density_difference_1=img[n_x][n_y][1] - img[i][j][1]                               \n",
    "                density_difference_2=img[n_x][n_y][2] - img[i][j][2]\n",
    "                # gaussian with distances \n",
    "                gs = (1.0 / (2 * math.pi * (sigma_s ** 2))) * math.exp(- (np.sqrt((n_x-i)**2 + (n_y-j)**2) ** 2) / (2 * sigma_s ** 2))\n",
    "                # gaussian with instensity differences for each RGB pixels.\n",
    "                w_1 = (1.0 / (2 * math.pi * (sigma_i ** 2))) * math.exp(- (density_difference_0 ** 2) / (2 * sigma_i ** 2)) * gs\n",
    "                w_2 = (1.0 / (2 * math.pi * (sigma_i ** 2))) * math.exp(- (density_difference_1 ** 2) / (2 * sigma_i ** 2)) * gs\n",
    "                w_3 = (1.0 / (2 * math.pi * (sigma_i ** 2))) * math.exp(- (density_difference_2 ** 2) / (2 * sigma_i ** 2)) * gs\n",
    "                 \n",
    "                \n",
    "                filtered_list[0] += img[n_x][n_y][0] * w_1\n",
    "                filtered_list[1] += img[n_x][n_y][1] * w_2\n",
    "                filtered_list[2] += img[n_x][n_y][2] * w_3\n",
    "                \n",
    "                Wp_0 += w_1\n",
    "                Wp_1 += w_2\n",
    "                Wp_2 += w_3\n",
    "                \n",
    "                l += 1\n",
    "            k += 1\n",
    "        filtered_list[0] = filtered_list[0] / Wp_0\n",
    "        filtered_list[1] = filtered_list[1] / Wp_1\n",
    "        filtered_list[2] = filtered_list[2] / Wp_2\n",
    "        \n",
    "        m = 0\n",
    "        while m < 3:\n",
    "            F_İmage[i][j][m]= int(round(filtered_list[m]))  # Round each RGB pixels's intensity values and assign each of them to image_list\n",
    "            m += 1\n",
    "        \n",
    "        j += 1\n",
    "    i += 1\n",
    "cv2.imwrite(\"F_İmage_my.jpg\", F_İmage)\n",
    "filtered_image_OpenCV = cv2.bilateralFilter(img, 7, 12, 17)\n",
    "cv2.imwrite(\"OpenCv_filtered_image.jpg\", filtered_image_OpenCV)\n",
    "\n",
    "#The purpose of bileteral filter is smoothing the image without blurring edges.\n",
    "#Because of that i tryed severel sigma values from 2 to 200 for each of sigma(sigma_i and sigma_s)\n",
    "#First i fixed the sigma_s value to 10 and increase sigma_i value 5 by 5 and when i get closer to higher values to 100\n",
    "# image blured too much. I understand that if i increase sigma_s value too much image get blured too much but edges also blured and goes bad.\n",
    "# my aim is smooth image but not smooth edges. So i understand that i must take sigma_s value a bit low not 50 or 100.\n",
    "#Second i fixed the sigma_i value to 10 and increase sigma_s value 5 by 5 and i can't see a big visible change from it.\n",
    "#But i increase sigma_s and sigma_i values simultaneasly smoothnes of image increase and also edges are more sharp.\n",
    "#As a result when sigma_s value increasing smoothness sigma_i value protecting the sharpness of the edges.\n",
    "# I combine two values to find the nice smoothing image and i select sigma_i 12 and sigma_s 17 for best result.\n"
   ]
  },
  {
   "cell_type": "code",
   "execution_count": null,
   "metadata": {},
   "outputs": [],
   "source": []
  },
  {
   "cell_type": "code",
   "execution_count": null,
   "metadata": {},
   "outputs": [],
   "source": []
  }
 ],
 "metadata": {
  "kernelspec": {
   "display_name": "Python 3",
   "language": "python",
   "name": "python3"
  },
  "language_info": {
   "codemirror_mode": {
    "name": "ipython",
    "version": 3
   },
   "file_extension": ".py",
   "mimetype": "text/x-python",
   "name": "python",
   "nbconvert_exporter": "python",
   "pygments_lexer": "ipython3",
   "version": "3.5.2"
  }
 },
 "nbformat": 4,
 "nbformat_minor": 2
}
