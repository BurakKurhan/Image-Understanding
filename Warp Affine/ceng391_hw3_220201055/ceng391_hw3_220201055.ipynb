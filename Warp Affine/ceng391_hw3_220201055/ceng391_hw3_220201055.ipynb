{
 "cells": [
  {
   "cell_type": "code",
   "execution_count": 21,
   "metadata": {},
   "outputs": [
    {
     "data": {
      "text/plain": [
       "True"
      ]
     },
     "execution_count": 21,
     "metadata": {},
     "output_type": "execute_result"
    }
   ],
   "source": [
    "#İsmail Burak Kurhan\n",
    "#220201055\n",
    "import numpy as np\n",
    "import cv2\n",
    "import sys\n",
    "import math\n",
    "from numpy.linalg import inv\n",
    "\n",
    "img = cv2.imread(\"img1.png\",0)\n",
    "t =50   # Scale parameter,\n",
    "u =30   # In-plane rotation angle\n",
    "l =0.5  # Tilt amount\n",
    "\n",
    "sint= math.sin(math.radians(t))\n",
    "cost = math.cos(math.radians(t))\n",
    "sinu = math.sin(math.radians(u))\n",
    "cosu = math.cos(math.radians(u))\n",
    "\n",
    "matrixAffine = l*(np.dot(np.array([[cosu,sinu],[-sinu,cosu]]),np.array([[cost, 0], [0, 1]])))\n",
    "\n",
    "cornerbr = np.dot(matrixAffine,np.array([[len(img)],[len(img[0])]]))\n",
    "cornerbl = np.dot(matrixAffine,np.array([[0],[len(img[0])]]))\n",
    "cornertr = np.dot(matrixAffine,np.array([[len(img)],[0]]))\n",
    "cornertl = np.dot(matrixAffine,np.array([[0],[0]]))\n",
    "\n",
    "height = abs(int((cornertr[1])-(cornerbl[1])))\n",
    "width = abs(int((cornerbr[0])-(cornertl[0])))\n",
    "\n",
    "Warped_Image = np.zeros([width, height,1])  #Create Frame of the warped image\n",
    "\n",
    "matrixHomogrophy1 = np.dot(np.matrix([[1,0,width/2],[0,1,height/2],[0,0,1]]),np.matrix([[matrixAffine[0][0],matrixAffine[0][1],0],[matrixAffine[1][0],matrixAffine[1][1],0],[0,0,1]]))\n",
    "matrixHomogrophy2 = np.dot(matrixHomogrophy1,np.matrix([[1,0,-len(img)/2],[0,1,-len(img[0])/2],[0,0,1]]))\n",
    "\n",
    "homogrophyInverse = inv(matrixHomogrophy2)\n",
    "\n",
    "referencelist = []\n",
    "i = 0\n",
    "while i < width:    \n",
    "    j = 0\n",
    "    while j < height:\n",
    "        referencelist.append((np.dot(homogrophyInverse,np.array([[i],[j],[1]]))))\n",
    "        #---------find nearest referenced point-----------\n",
    "        firstpointx =  round(float(referencelist[0][0]))\n",
    "        firstpointy =  round(float(referencelist[0][1]))\n",
    "        #------------Check out of bound------------------------\n",
    "        if ( firstpointx>=len(img)-1):\n",
    "            Warped_Image[i][j]=0\n",
    "            j+=1\n",
    "            del referencelist[0]\n",
    "            continue\n",
    "        elif (firstpointy>=len(img[0])-1):\n",
    "            Warped_Image[i][j]=0\n",
    "            j+=1\n",
    "            del referencelist[0]\n",
    "            continue\n",
    "        elif (firstpointx < 0 ):\n",
    "            Warped_Image[i][j]=0\n",
    "            j+=1\n",
    "            del referencelist[0]\n",
    "            continue\n",
    "        elif (firstpointy < 0):\n",
    "            Warped_Image[i][j]=0\n",
    "            j+=1\n",
    "            del referencelist[0]\n",
    "            continue\n",
    "  \n",
    "        x_ratio= (referencelist[0][0] - firstpointx)\n",
    "        y_ratio= (referencelist[0][1] - firstpointy)\n",
    "        #------------------bilinear-interpolation-------------------------------\n",
    "        a=  (1 - x_ratio) * img[firstpointx][firstpointy] * (1-y_ratio)\n",
    "        b=  img[firstpointx+1][firstpointy]* x_ratio* (1-y_ratio)\n",
    "        c= y_ratio *img[firstpointx][firstpointy+1]*  (1 - x_ratio)\n",
    "        d= y_ratio * x_ratio * img[firstpointx+1][firstpointy+1]\n",
    "       \n",
    "        intensity = a + b + c +d\n",
    "\n",
    "        Warped_Image[i][j]=intensity\n",
    "        del referencelist[0]\n",
    "        j+=1\n",
    "    i+=1\n",
    "\n",
    "cv2.imwrite(\"warped_img.png\", Warped_Image)"
   ]
  },
  {
   "cell_type": "code",
   "execution_count": null,
   "metadata": {},
   "outputs": [],
   "source": [
    "#COMMENT-1 :I'm using inverse homogrophy for takes intesities of warped image from reference image.\n",
    "# By this multiplaction with left side and right side we can detect true coordinates of images.\n",
    "# because we are giving width and height of reference image with left side matrix and width and height of warped image\n",
    "# with right side matrix.\n",
    "# If the don't multiply these matrices with homogrophy matrix our warped image will not fit the frame.\n",
    "# so, some part of the warped images take place at the out of frame.\n",
    "# due to this reason we are multiplying affine matrix with two matrices"
   ]
  },
  {
   "cell_type": "code",
   "execution_count": null,
   "metadata": {},
   "outputs": [],
   "source": [
    "#COMMENT-2 : We transform warped image to the reference image with inverse homogrophy because our aim is find the\n",
    "# correct coordinates of reference image which refer to warped image. This code starts with calculating frame of the\n",
    "# warped image, after finding corresponding coordinates with inverse homogrophy. If we calculate corresponding coordinates\n",
    "# with homogrophy matrix from reference image to warped image maybe we will can not find some intensity of pixels for different affine transformations.\n",
    "# By this method we are finding the correct intensity values of warped image."
   ]
  },
  {
   "cell_type": "code",
   "execution_count": null,
   "metadata": {},
   "outputs": [],
   "source": [
    "# COMMENT-3 : bilinear interpolation compute intensity values more close to the right intensity.\n",
    "# because bilinear interpolation check nearest 4 pixel and calculate intensity with their distance rate.\n",
    "# If we use nearest-neighbour interpolation instead of bilinear interpolation gives more bad result because \n",
    "# nearest-neighbour interpolation check only one pixel and takes this intensity instead of 4 pixel."
   ]
  }
 ],
 "metadata": {
  "kernelspec": {
   "display_name": "Python 3",
   "language": "python",
   "name": "python3"
  },
  "language_info": {
   "codemirror_mode": {
    "name": "ipython",
    "version": 3
   },
   "file_extension": ".py",
   "mimetype": "text/x-python",
   "name": "python",
   "nbconvert_exporter": "python",
   "pygments_lexer": "ipython3",
   "version": "3.5.2"
  }
 },
 "nbformat": 4,
 "nbformat_minor": 2
}
